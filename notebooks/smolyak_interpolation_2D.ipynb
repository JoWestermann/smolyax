{
 "cells": [
  {
   "cell_type": "code",
   "execution_count": null,
   "id": "8e318857-3396-46af-9dfd-8160a5c7193f",
   "metadata": {
    "editable": true,
    "slideshow": {
     "slide_type": ""
    },
    "tags": []
   },
   "outputs": [],
   "source": [
    "import numpy as np\n",
    "import matplotlib.pyplot as plt\n",
    "plt.rcParams.update({'font.size': 16, 'figure.figsize': (40, 8), 'font.family': 'serif', 'text.usetex': False, 'pgf.rcfonts': False})\n",
    "\n",
    "%load_ext autoreload\n",
    "%autoreload 2\n",
    "\n",
    "import jax\n",
    "jax.config.update('jax_platform_name', 'cpu')\n",
    "    \n",
    "from smolyax import indices, nodes\n",
    "from smolyax.interpolation import SmolyakBarycentricInterpolator\n",
    "\n",
    "def target_f_2d_to_1d(x):\n",
    "    x = np.atleast_2d(x)\n",
    "    y = np.sin(2 * np.pi * x[:, 0]) * np.cos(2 * np.pi * x[:, 1])\n",
    "    return y\n",
    "\n",
    "def get_meshgrid(node_gen, n=100) :\n",
    "    xs = [np.linspace(-1, 1, n) for gi in node_gen]\n",
    "    return np.meshgrid(*xs)"
   ]
  },
  {
   "cell_type": "code",
   "execution_count": null,
   "id": "f452fbac-87b1-4c21-8f7a-c2b08e622101",
   "metadata": {},
   "outputs": [],
   "source": [
    "node_gen = nodes.Leja(dim=2)\n",
    "t = 40\n",
    "ip = SmolyakBarycentricInterpolator(node_gen=node_gen, k=[1,1], t=t, d_out=1, f=target_f_2d_to_1d)\n",
    "\n",
    "n = 100\n",
    "X, Y = get_meshgrid(node_gen, n)\n",
    "Z_f = target_f_2d_to_1d(np.stack([X.ravel(), Y.ravel()], axis=1)).reshape(n, n)\n",
    "Z_ip = ip(np.stack([X.ravel(), Y.ravel()], axis=1)).reshape(n, n)\n",
    "Z_err = Z_f - Z_ip\n",
    "\n",
    "fig, axes = plt.subplots(1, 3, figsize=(24, 5))\n",
    "for ax, Z, title in zip(axes, [Z_f, Z_ip, Z_err], [r'target $f(x)$', 'interpolant $I[f](x)$', 'error $f(x)-I[f](x)$']):\n",
    "    im = ax.imshow(Z, extent=[np.min(X), np.max(X), np.min(Y), np.max(Y)], origin='lower')\n",
    "    ax.set_title(title); fig.colorbar(im, ax=ax)\n",
    "\n",
    "plt.show()"
   ]
  }
 ],
 "metadata": {
  "kernelspec": {
   "display_name": "smolyax",
   "language": "python",
   "name": "smolyax"
  },
  "language_info": {
   "codemirror_mode": {
    "name": "ipython",
    "version": 3
   },
   "file_extension": ".py",
   "mimetype": "text/x-python",
   "name": "python",
   "nbconvert_exporter": "python",
   "pygments_lexer": "ipython3",
   "version": "3.13.3"
  }
 },
 "nbformat": 4,
 "nbformat_minor": 5
}
