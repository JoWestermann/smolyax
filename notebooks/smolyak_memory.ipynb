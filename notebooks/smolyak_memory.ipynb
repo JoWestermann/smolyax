{
 "cells": [
  {
   "cell_type": "code",
   "execution_count": null,
   "id": "8e318857-3396-46af-9dfd-8160a5c7193f",
   "metadata": {
    "editable": true,
    "slideshow": {
     "slide_type": ""
    },
    "tags": []
   },
   "outputs": [],
   "source": [
    "import numpy as np\n",
    "import matplotlib.pyplot as plt\n",
    "plt.rcParams.update({'font.size': 16, 'figure.figsize': (40, 8), 'font.family': 'serif', 'text.usetex': False, 'pgf.rcfonts': False})\n",
    "\n",
    "%load_ext autoreload\n",
    "%autoreload 2\n",
    "from pympler import asizeof  # install via `pip install pympler` if not present\n",
    "\n",
    "from smolyax import indices, nodes\n",
    "from smolyax.interpolation import SmolyakBarycentricInterpolator\n",
    "\n",
    "def target_f(x, theta=2., r=2.) :\n",
    "    return 1/(1+ theta * np.sum(x * (np.arange(x.shape[-1]) + 2)**(-r), axis=-1))"
   ]
  },
  {
   "cell_type": "markdown",
   "id": "de56684b-5e79-451e-be12-f4a8889d23a2",
   "metadata": {},
   "source": [
    "# Assymptotic memory consumption of the interpolation operator \n",
    "\n",
    "The memory required for the Smolyak interpolation operator is dominated by the tensors that store function evaluations of the individual tensor product interpolants. This notebook compares the theoretical size of these tensors to the actual size of a corresponding `SmolyakBarycentricInterpolator` instance. The results below indicate that, asymptotically as the number $n$ of interpolation nodes increases, the memory requirements of the `SmolyakBarycentricInterpolator` class approach the theoretical lower bound—i.e., the combined tensor size—up to a moderate constant factor ~2."
   ]
  },
  {
   "cell_type": "code",
   "execution_count": null,
   "id": "162a460d-099e-482b-938e-9b2c2d9dfcce",
   "metadata": {},
   "outputs": [],
   "source": [
    "to_GB = 1024**(-3)\n",
    "\n",
    "def size_tensors(k, t, d) :\n",
    "    indxs = indices.indexset(k, t)\n",
    "    size = 0\n",
    "    for nu in indxs :\n",
    "        zeta = indices.smolyak_coefficient(k, d, t - np.sum([k[j]*nu_j for j,nu_j in nu]), 0)\n",
    "        if zeta != 0 :\n",
    "            size += np.prod([si + 1 for _, si in nu])\n",
    "    return size * np.dtype(np.float64).itemsize * to_GB\n",
    "\n",
    "def size_interpolator(node_gen, k, t) :\n",
    "    ip = SmolyakBarycentricInterpolator(node_gen=node_gen, k=k, d_out=1, t=t, f=target_f)\n",
    "    return asizeof.asizeof(ip) * to_GB"
   ]
  },
  {
   "cell_type": "code",
   "execution_count": null,
   "id": "eba3dfa4-6a36-4223-96dc-51d5c2beb3b8",
   "metadata": {},
   "outputs": [],
   "source": [
    "n_list = [100, 200, 400, 800, 1600, 3200, 6400, 12800, 25600, 51200, 102400]\n",
    "results = np.zeros((len(n_list), 2))\n",
    "\n",
    "d = 400\n",
    "for i, n in enumerate(n_list) :\n",
    "    node_gen = nodes.Leja(dim=d)\n",
    "    k = [np.log((2+j)/np.log(2)) for j in range(d)]\n",
    "    t = indices.find_approximate_threshold(k, n, nested=node_gen.is_nested)\n",
    "    \n",
    "    results[i][0] = size_tensors(k, t, d)\n",
    "    results[i][1] = size_interpolator(node_gen, k, t)"
   ]
  },
  {
   "cell_type": "code",
   "execution_count": null,
   "id": "5386fdb2-97ac-4b88-b043-1963c8a020ea",
   "metadata": {},
   "outputs": [],
   "source": [
    "fig, axs = plt.subplots(1,2, figsize=(20,6))\n",
    "axs[0].loglog(n_list, results[:, 0], marker='o', label='tensors only')\n",
    "axs[0].loglog(n_list, results[:, 1], marker='o', label='interpolator')\n",
    "axs[0].loglog(n_list, np.array(n_list) * 1e-7, 'k:', label=r'$\\sim n$')\n",
    "axs[1].loglog(n_list, results[:, 1]/results[:, 0], marker='o', label='memory interpolator / memory tensors only')\n",
    "for ax, title in zip(axs, ['absolute', 'relative', ]): ax.set_xlabel(r'$n$'); ax.grid(); ax.set_title(title); ax.legend()\n",
    "axs[0].set_ylabel('memory [GB]')\n",
    "ax.set_ylim((1,100))\n",
    "\n",
    "plt.tight_layout()"
   ]
  }
 ],
 "metadata": {
  "kernelspec": {
   "display_name": ".conda",
   "language": "python",
   "name": "python3"
  },
  "language_info": {
   "codemirror_mode": {
    "name": "ipython",
    "version": 3
   },
   "file_extension": ".py",
   "mimetype": "text/x-python",
   "name": "python",
   "nbconvert_exporter": "python",
   "pygments_lexer": "ipython3",
   "version": "3.12.10"
  }
 },
 "nbformat": 4,
 "nbformat_minor": 5
}
