{
 "cells": [
  {
   "cell_type": "code",
   "execution_count": null,
   "id": "8e318857-3396-46af-9dfd-8160a5c7193f",
   "metadata": {
    "editable": true,
    "slideshow": {
     "slide_type": ""
    },
    "tags": []
   },
   "outputs": [],
   "source": [
    "import numpy as np\n",
    "import matplotlib.pyplot as plt\n",
    "plt.rcParams.update({'font.size': 16, 'figure.figsize': (40, 8), 'font.family': 'serif', 'text.usetex': False, 'pgf.rcfonts': False})\n",
    "\n",
    "%load_ext autoreload\n",
    "%autoreload 2\n",
    "\n",
    "from smolyax import indices, nodes"
   ]
  },
  {
   "cell_type": "markdown",
   "id": "de56684b-5e79-451e-be12-f4a8889d23a2",
   "metadata": {},
   "source": [
    "# Asymptotic memory consumption of the interpolation operator\n",
    "\n",
    "The memory required for the Smolyak interpolation operator is dominated by the tensors that store the function evaluations of the individual tensor-product interpolants. This notebook compares the minimal size of these tensors with their size under the padding strategy implemented in the `SmolyakBarycentricInterpolator` class. The results below indicate that the memory overhead introduced by the padding strategy grows only by a logarithmic factor. This conclusion holds both for asymptotics in the input dimension $d$ and in the number of interpolation nodes $n$."
   ]
  },
  {
   "cell_type": "code",
   "execution_count": null,
   "id": "162a460d-099e-482b-938e-9b2c2d9dfcce",
   "metadata": {},
   "outputs": [],
   "source": [
    "to_GB = 1024**(-3)\n",
    "\n",
    "def size_tensors(k, t, d) :\n",
    "    indxs = indices.indexset(k, t)\n",
    "    size = 0\n",
    "    for nu in indxs :\n",
    "        zeta = indices.smolyak_coefficient(k, d, t - np.sum([k[j]*nu_j for j,nu_j in nu]), 0)\n",
    "        if zeta != 0 :\n",
    "            size += np.prod([si + 1 for _, si in nu])\n",
    "    return size * np.dtype(np.float64).itemsize * to_GB\n",
    "\n",
    "def size_padded_tensors(k, t) :\n",
    "    size = 0\n",
    "    n_2_nus, _ = indices.non_zero_indices_and_zetas(k, t)\n",
    "\n",
    "    for n, nus in n_2_nus.items():\n",
    "        if n == 0:\n",
    "            size += 1\n",
    "            continue\n",
    "\n",
    "        nn = len(nus)  # number of multi-indices of length n\n",
    "        sorted_dims = np.empty((nn, n), dtype=int)\n",
    "        sorted_degs = np.empty((nn, n), dtype=int)\n",
    "\n",
    "        for i, nu in enumerate(n_2_nus[n]):\n",
    "            sorted_nu = sorted(nu, key=lambda x: x[1], reverse=True)\n",
    "            sorted_dims[i], sorted_degs[i] = zip(*sorted_nu)\n",
    "\n",
    "        tau = list(int(ti) for ti in sorted_degs.max(axis=0))\n",
    "        size += nn * np.prod([si + 1 for si in tau])\n",
    "    return size * np.dtype(np.float64).itemsize * to_GB"
   ]
  },
  {
   "cell_type": "markdown",
   "id": "9244f93d-ddcb-4900-b12f-c86f5997ecaf",
   "metadata": {},
   "source": [
    "## Number of interpolation nodes $n \\to \\infty$"
   ]
  },
  {
   "cell_type": "code",
   "execution_count": null,
   "id": "eba3dfa4-6a36-4223-96dc-51d5c2beb3b8",
   "metadata": {},
   "outputs": [],
   "source": [
    "n_list = [100, 200, 400, 800, 1600, 3200, 6400, 12800, 25600, 51200, 102400]\n",
    "results_n = np.zeros((len(n_list), 2))\n",
    "\n",
    "d = 400\n",
    "node_gen = nodes.Leja(dim=d)\n",
    "k = [np.log((2+j)/np.log(2)) for j in range(d)]\n",
    "for i, n in enumerate(n_list) :\n",
    "    t = indices.find_approximate_threshold(k, n, nested=node_gen.is_nested)\n",
    "    \n",
    "    results_n[i][0] = size_tensors(k, t, d)\n",
    "    results_n[i][1] = size_padded_tensors(k, t)"
   ]
  },
  {
   "cell_type": "code",
   "execution_count": null,
   "id": "5386fdb2-97ac-4b88-b043-1963c8a020ea",
   "metadata": {},
   "outputs": [],
   "source": [
    "fig, ax = plt.subplots(1, 1, figsize=(14,6))\n",
    "ax.loglog(n_list, results_n[:, 0], marker='o', label='tensors raw')\n",
    "ax.loglog(n_list, np.array(n_list) * np.log(n_list) * 3e-9, 'k--', label=r'$\\sim n {\\rm log}(n)$')\n",
    "ax.loglog(n_list, results_n[:, 1], marker='o', label='tensors padded')\n",
    "ax.loglog(n_list, np.array(n_list) * np.log(n_list)**3 * 5e-10, 'k:', label=r'$\\sim n {\\rm log}(n)^3$')\n",
    "ax.set_xlabel(r'$n$'); ax.grid(); ax.legend(); ax.set_ylabel('memory [GB]')\n",
    "plt.tight_layout()"
   ]
  },
  {
   "cell_type": "markdown",
   "id": "c11d2118-fa80-4a33-abb8-cb66aa913b82",
   "metadata": {},
   "source": [
    "## Input dimensionality $d \\to \\infty$"
   ]
  },
  {
   "cell_type": "code",
   "execution_count": null,
   "id": "aa526081-0e1c-4891-b70a-dfd25f51d4ea",
   "metadata": {},
   "outputs": [],
   "source": [
    "d_list = [100, 200, 400, 800, 1600, 3200, 6400, 12800]\n",
    "results_d = np.zeros((len(d_list), 2))\n",
    "\n",
    "n = 10000\n",
    "for i, n in enumerate(d_list) :\n",
    "    node_gen = nodes.Leja(dim=d)\n",
    "    k = [np.log((2+j)/np.log(2)) for j in range(d)]\n",
    "    t = indices.find_approximate_threshold(k, n, nested=node_gen.is_nested)\n",
    "    \n",
    "    results_d[i][0] = size_tensors(k, t, d)\n",
    "    results_d[i][1] = size_padded_tensors(k, t)"
   ]
  },
  {
   "cell_type": "code",
   "execution_count": null,
   "id": "3d37c8e8-ddaf-46db-bd96-39900cc91a3e",
   "metadata": {},
   "outputs": [],
   "source": [
    "fig, ax = plt.subplots(1, 1, figsize=(14,6))\n",
    "ax.loglog(d_list, results_d[:, 0], marker='o', label='tensors only')\n",
    "ax.loglog(d_list, np.array(d_list) * np.log(d_list) * 3e-9, 'k--', label=r'$\\sim d {\\rm log}(d)$')\n",
    "ax.loglog(d_list, results_d[:, 1], marker='o', label='interpolator')\n",
    "ax.loglog(d_list, np.array(d_list) * np.log(d_list)**3 * 4e-10, 'k:', label=r'$\\sim d  {\\rm log}(d)^3$')\n",
    "ax.set_xlabel(r'$d$'); ax.grid(); ax.legend(); ax.set_ylabel('memory [GB]')\n",
    "plt.tight_layout()"
   ]
  }
 ],
 "metadata": {
  "kernelspec": {
   "display_name": "smolyax",
   "language": "python",
   "name": "smolyax"
  },
  "language_info": {
   "codemirror_mode": {
    "name": "ipython",
    "version": 3
   },
   "file_extension": ".py",
   "mimetype": "text/x-python",
   "name": "python",
   "nbconvert_exporter": "python",
   "pygments_lexer": "ipython3",
   "version": "3.13.5"
  }
 },
 "nbformat": 4,
 "nbformat_minor": 5
}
