{
 "cells": [
  {
   "cell_type": "code",
   "execution_count": null,
   "id": "8e318857-3396-46af-9dfd-8160a5c7193f",
   "metadata": {
    "editable": true,
    "slideshow": {
     "slide_type": ""
    },
    "tags": []
   },
   "outputs": [],
   "source": [
    "import numpy as np\n",
    "import matplotlib.pyplot as plt\n",
    "plt.rcParams.update({'font.size': 16, 'figure.figsize': (40, 8), 'font.family': 'serif', 'text.usetex': True, 'pgf.rcfonts': False})\n",
    "\n",
    "%load_ext autoreload\n",
    "%autoreload 2\n",
    "\n",
    "from jax_smolyak.points import *\n",
    "from jax_smolyak.indices import *\n",
    "from jax_smolyak.smolyak_jax import MultivariateSmolyakBarycentricInterpolator"
   ]
  },
  {
   "cell_type": "markdown",
   "id": "de56684b-5e79-451e-be12-f4a8889d23a2",
   "metadata": {},
   "source": [
    "## Memory consumption of $F$ \n",
    "\n",
    "$F$ is the tensor that stores the target function evaluations and is dominating memory requirements.\n",
    "\n",
    "### Independence of input and output dimension d (keeping the size of the multi-index set fixed at $n=5000$)"
   ]
  },
  {
   "cell_type": "code",
   "execution_count": null,
   "id": "162a460d-099e-482b-938e-9b2c2d9dfcce",
   "metadata": {},
   "outputs": [],
   "source": [
    "def size_o(indxs, k, l, d) : # original, memory-efficient implementation\n",
    "    size = 0\n",
    "    for nu in indxs :\n",
    "        zeta = smolyak_coefficient_zeta_sparse(lambda j : k[j], l, nu=nu, cutoff=d)\n",
    "        if zeta != 0 :\n",
    "            size += np.prod([si + 1 for si in nu.values()])\n",
    "    return size\n",
    "\n",
    "def size_p(indxs, k, l, d) : # using padding\n",
    "    k_2_tau = {}\n",
    "    k_2_n = {}\n",
    "    for nu in indxs :\n",
    "        zeta = smolyak_coefficient_zeta_sparse(lambda j : k[j], l, nu=nu, cutoff=d)\n",
    "        if zeta != 0 :\n",
    "            tau = tuple(nu.values())\n",
    "            kk = len(tau)\n",
    "            k_2_tau[kk] = tuple(max(nu1, nu2) for nu1, nu2 in zip(k_2_tau.get(kk, tau), tau))\n",
    "            k_2_n[kk] = k_2_n.get(kk, 0) + 1\n",
    "\n",
    "    size = 0\n",
    "    for kk in k_2_tau.keys() :\n",
    "        size += np.prod([si + 1 for si in k_2_tau[kk]]) * k_2_n[kk]\n",
    "    return size\n",
    "\n",
    "def size_pp(indxs, k, l, d) : # using both permutation and padding\n",
    "    k_2_tau = {}\n",
    "    k_2_n = {}\n",
    "    for nu in indxs :\n",
    "        zeta = smolyak_coefficient_zeta_sparse(lambda j : k[j], l, nu=nu, cutoff=d)\n",
    "        if zeta != 0 :\n",
    "            tau = tuple(sorted(nu.values(), reverse=True))\n",
    "            kk = len(tau)\n",
    "            k_2_tau[kk] = tuple(max(nu1, nu2) for nu1, nu2 in zip(k_2_tau.get(kk, tau), tau))\n",
    "            k_2_n[kk] = k_2_n.get(kk, 0) + 1\n",
    "\n",
    "    size = 0\n",
    "    for kk in k_2_tau.keys() :\n",
    "        size += np.prod([si + 1 for si in k_2_tau[kk]]) * k_2_n[kk]\n",
    "    return size"
   ]
  },
  {
   "cell_type": "code",
   "execution_count": null,
   "id": "2fadc34d-eeb6-48c0-b6e3-82f1625f36a7",
   "metadata": {},
   "outputs": [],
   "source": [
    "d_list = [10, 20, 40, 80, 160, 320, 640, 1250, 2500]\n",
    "results = np.zeros((len(d_list), 3))\n",
    "\n",
    "n = 5000\n",
    "for i, d in enumerate(d_list) :\n",
    "    k = [np.log((2+j)/np.log(2)) for j in range(d)]\n",
    "    g = LejaMulti(d=d)\n",
    "    l = find_suitable_l(k, n, nested=g.is_nested)\n",
    "    indxs = indexset_sparse(lambda j : k[j], l, cutoff=d)\n",
    "    results[i] = size_o(indxs, k, l, d), size_p(indxs, k, l, d), size_pp(indxs, k, l, d)"
   ]
  },
  {
   "cell_type": "code",
   "execution_count": null,
   "id": "8a638dc0-d0e0-4806-92bf-9bf0afac91a1",
   "metadata": {},
   "outputs": [],
   "source": [
    "fig, axs = plt.subplots(1,2)\n",
    "axs[0].loglog(d_list, results[:, 0], marker='o', label='o')\n",
    "axs[0].loglog(d_list, results[:, 1], marker='o', label='p')\n",
    "axs[0].loglog(d_list, results[:, 2], marker='o', label='pp')\n",
    "axs[1].loglog(d_list, results[:, 1]/results[:, 0], marker='o', label='p/o')\n",
    "axs[1].loglog(d_list, results[:, 2]/results[:, 0], marker='o', label='pp/o')\n",
    "for ax, title in zip(axs, ['absolute', 'relative', ]): ax.set_xlabel(r'$d$'); ax.set_ylabel(r'$d$'); ax.grid(); ax.set_title(title); ax.legend()\n",
    "plt.tight_layout()"
   ]
  },
  {
   "cell_type": "markdown",
   "id": "6d239fe2-6c66-4b46-a4ef-b4f4d23c83c1",
   "metadata": {},
   "source": [
    "### In dependence of the size of the multi-index (keeping the dimension fixed at $d=200$)"
   ]
  },
  {
   "cell_type": "code",
   "execution_count": null,
   "id": "eba3dfa4-6a36-4223-96dc-51d5c2beb3b8",
   "metadata": {},
   "outputs": [],
   "source": [
    "n_list = [100, 200, 400, 800, 1600, 3200, 6400, 12800, 25600, 51200]\n",
    "results = np.zeros((len(n_list), 3))\n",
    "\n",
    "d = 200\n",
    "for i, n in enumerate(n_list) :\n",
    "    k = [np.log((2+j)/np.log(2)) for j in range(d)]\n",
    "    g = LejaMulti(d=d)\n",
    "    l = find_suitable_l(k, n, nested=g.is_nested)\n",
    "    indxs = indexset_sparse(lambda j : k[j], l, cutoff=d)\n",
    "    results[i] = size_o(indxs, k, l, d), size_p(indxs, k, l, d), size_pp(indxs, k, l, d)"
   ]
  },
  {
   "cell_type": "code",
   "execution_count": null,
   "id": "5386fdb2-97ac-4b88-b043-1963c8a020ea",
   "metadata": {},
   "outputs": [],
   "source": [
    "fig, axs = plt.subplots(1,2)\n",
    "axs[0].loglog(n_list, results[:, 0], marker='o', label='o')\n",
    "axs[0].loglog(n_list, results[:, 1], marker='o', label='p')\n",
    "axs[0].loglog(n_list, results[:, 2], marker='o', label='pp')\n",
    "axs[1].loglog(n_list, results[:, 1]/results[:, 0], marker='o', label='p/o')\n",
    "axs[1].loglog(n_list, results[:, 2]/results[:, 0], marker='o', label='pp/o')\n",
    "for ax, title in zip(axs, ['absolute', 'relative', ]): ax.set_xlabel(r'$n$'); ax.grid(); ax.set_title(title); ax.legend()\n",
    "plt.tight_layout()"
   ]
  },
  {
   "cell_type": "code",
   "execution_count": null,
   "id": "3f3caf46",
   "metadata": {},
   "outputs": [],
   "source": []
  }
 ],
 "metadata": {
  "kernelspec": {
   "display_name": "dinox_env",
   "language": "python",
   "name": "python3"
  },
  "language_info": {
   "codemirror_mode": {
    "name": "ipython",
    "version": 3
   },
   "file_extension": ".py",
   "mimetype": "text/x-python",
   "name": "python",
   "nbconvert_exporter": "python",
   "pygments_lexer": "ipython3",
   "version": "3.12.3"
  }
 },
 "nbformat": 4,
 "nbformat_minor": 5
}
