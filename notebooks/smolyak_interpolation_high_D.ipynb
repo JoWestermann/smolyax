{
 "cells": [
  {
   "cell_type": "code",
   "execution_count": null,
   "id": "8e318857-3396-46af-9dfd-8160a5c7193f",
   "metadata": {
    "editable": true,
    "slideshow": {
     "slide_type": ""
    },
    "tags": []
   },
   "outputs": [],
   "source": [
    "import os, itertools\n",
    "import numpy as np\n",
    "import matplotlib.pyplot as plt\n",
    "plt.rcParams.update({'font.size': 16, 'figure.figsize': (40, 8), 'font.family': 'serif', 'text.usetex': True, 'pgf.rcfonts': False})\n",
    "\n",
    "%load_ext autoreload\n",
    "%autoreload 2\n",
    "\n",
    "import jax\n",
    "jax.config.update('jax_platform_name', 'cpu')\n",
    "    \n",
    "from smolyax import indices, nodes\n",
    "from smolyax.interpolation import SmolyakBarycentricInterpolator"
   ]
  },
  {
   "cell_type": "markdown",
   "id": "3b081ac2-8014-440b-ad15-905998c54a12",
   "metadata": {},
   "source": [
    "We consider the high-dimensional test target function $f : [-1,1]^d \\to \\mathbb{R}$\n",
    "given by\n",
    "$$ f(\\boldsymbol{x}) = \\frac{1}{1 + \\Theta \\sum_{j=1}^d (j+1)^{-r} x_j} $$\n",
    "for some $\\Theta \\in (0,1)$ and $r\\ge1$, which can be implemented in vectorized form as"
   ]
  },
  {
   "cell_type": "code",
   "execution_count": null,
   "id": "8441f7e6-8b13-452e-be8f-c4c66bd26671",
   "metadata": {},
   "outputs": [],
   "source": [
    "def target_f(x, theta, r) :\n",
    "    return 1/(1+ theta * np.sum(x * (np.arange(x.shape[-1]) + 2)**(-r), axis=-1))"
   ]
  },
  {
   "cell_type": "markdown",
   "id": "6f2f8ff6-f6f7-4cf7-9a23-d919718abd53",
   "metadata": {},
   "source": [
    "We test the convergence of the Smolyak operator constructed from multi-index sets of the form $$\\Lambda = \\{\\boldsymbol\\nu\\in \\mathbb{N}_0^d \\ : \\ \\sum_{j=1}^d \\nu_j \\log \\left(\\frac{(j+1)^{r}}{\\theta}\\right) < t\\}$$ as the cardinality of the multi-index set (controlled via $\\ell$) goes to $\\infty$ via a Monte-Carlo estimate of the relative $L^2$ error:"
   ]
  },
  {
   "cell_type": "code",
   "execution_count": null,
   "id": "e393c158-9978-4fb1-8359-c876f3c92c5b",
   "metadata": {},
   "outputs": [],
   "source": [
    "def mc_mse_estimate(f, ip, node_gen, n=500) :\n",
    "    x = node_gen.get_random(n)\n",
    "    fx = f(x)\n",
    "    return np.sqrt(np.mean((fx - np.squeeze(ip(x)))**2) / np.mean(fx**2))"
   ]
  },
  {
   "cell_type": "markdown",
   "id": "09e63077-5f0e-43a2-8543-9cc7616e69f3",
   "metadata": {},
   "source": [
    "We obtain the following convergence for $d = 100$ and parameters $r=2$ and $\\theta=0.1$:"
   ]
  },
  {
   "cell_type": "code",
   "execution_count": null,
   "id": "62980a16-47a9-4ac8-905d-7be00a9808f7",
   "metadata": {},
   "outputs": [],
   "source": [
    "d, r, theta = 100, 2., .1\n",
    "\n",
    "f = lambda x : target_f(x, theta, r)\n",
    "node_gen = nodes.Leja(dim=d)\n",
    "k  = [np.log((ki+2)**(r)/theta) for ki in range(d)]\n",
    "max_t = indices.find_approximate_threshold(k, 1000, node_gen.is_nested)\n",
    "ips = [SmolyakBarycentricInterpolator(node_gen=node_gen, k=k, t=t, d_out=1, f=f) for t in np.linspace(1,max_t,10)]\n",
    "err = np.zeros((len(ips),))\n",
    "for i, ip in enumerate(ips) :\n",
    "    err[i] = mc_mse_estimate(f, ip, node_gen)"
   ]
  },
  {
   "cell_type": "code",
   "execution_count": null,
   "id": "ff2d4805-110a-4a19-b9e3-b93c83eae4b3",
   "metadata": {},
   "outputs": [],
   "source": [
    "ax = plt.figure(figsize=(16, 6)).add_subplot(111)\n",
    "ax.loglog([s.n_f_evals for s in ips], err, marker='o')\n",
    "ax.set_xlabel(r'n = $|\\Lambda|$ = \\# function evaluations'); ax.set_title(r'MC estimate of $\\frac{||f - I^\\Lambda[f]||_{L^2([-1,1]^d)}}{||f||_{L^2([-1,1]^d)}}$'); ax.grid();"
   ]
  }
 ],
 "metadata": {
  "kernelspec": {
   "display_name": "smolyax",
   "language": "python",
   "name": "smolyax"
  },
  "language_info": {
   "codemirror_mode": {
    "name": "ipython",
    "version": 3
   },
   "file_extension": ".py",
   "mimetype": "text/x-python",
   "name": "python",
   "nbconvert_exporter": "python",
   "pygments_lexer": "ipython3",
   "version": "3.13.3"
  }
 },
 "nbformat": 4,
 "nbformat_minor": 5
}
