{
 "cells": [
  {
   "cell_type": "code",
   "execution_count": null,
   "id": "8e318857-3396-46af-9dfd-8160a5c7193f",
   "metadata": {
    "editable": true,
    "slideshow": {
     "slide_type": ""
    },
    "tags": []
   },
   "outputs": [],
   "source": [
    "import os, itertools, time\n",
    "import numpy as np\n",
    "import matplotlib.pyplot as plt\n",
    "plt.rcParams.update({'font.size': 16, 'figure.figsize': (40, 8), 'font.family': 'serif', 'text.usetex': True, 'pgf.rcfonts': False})\n",
    "\n",
    "%load_ext autoreload\n",
    "%autoreload 2\n",
    "\n",
    "import jax\n",
    "jax.config.update('jax_platform_name', 'cpu')\n",
    "\n",
    "import jax_smolyak.points as points\n",
    "import jax_smolyak.indices as indices\n",
    "import jax_smolyak.smolyak_jax as sj\n",
    "\n",
    "def target_f(x, theta, r) :\n",
    "    return 1/(1+ theta * np.sum(x * (np.arange(x.shape[-1]) + 2)**(-r), axis=-1))"
   ]
  },
  {
   "cell_type": "code",
   "execution_count": null,
   "id": "62980a16-47a9-4ac8-905d-7be00a9808f7",
   "metadata": {},
   "outputs": [],
   "source": [
    "r, theta = 2., .1\n",
    "dimensions = [10,1000]\n",
    "batchsize = 250\n",
    "n_max = 10000\n",
    "n_tests = 10\n",
    "\n",
    "f = lambda x : target_f(x, theta, r)\n",
    "\n",
    "cost_setup = np.zeros((len(dimensions), n_tests))\n",
    "cost_eval = np.zeros((len(dimensions), n_tests))\n",
    "ns = np.zeros((len(dimensions), n_tests))\n",
    "\n",
    "for i, d in enumerate(dimensions) :\n",
    "    g = points.LejaMulti(d=d)\n",
    "    k  = [np.log((ki+2)**(r)/theta) for ki in range(d)]\n",
    "    max_l = indices.find_suitable_l(k, n_max, g.is_nested)\n",
    "    for j, l in enumerate(np.linspace(1,max_l,n_tests)) : \n",
    "        # measure setup time\n",
    "        t = time.time()\n",
    "        ip = sj.MultivariateSmolyakBarycentricInterpolator(g=g, k=k, l=l, rank=1, f=f, batchsize=batchsize)\n",
    "        cost_setup[i,j] = time.time() - t\n",
    "        ns[i,j] = ip.n\n",
    "\n",
    "        # measure eval time\n",
    "        x = g.get_random(batchsize)\n",
    "        t = time.time()\n",
    "        y = ip(x)\n",
    "        cost_eval[i,j] = time.time() - t"
   ]
  },
  {
   "cell_type": "code",
   "execution_count": null,
   "id": "ff2d4805-110a-4a19-b9e3-b93c83eae4b3",
   "metadata": {},
   "outputs": [],
   "source": [
    "fig, axes = plt.subplots(1, 2, figsize=(25,6))\n",
    "\n",
    "for i, d in enumerate(dimensions) :\n",
    "    axes[0].loglog(ns[i], cost_setup[i], marker='o', label=rf'd={d}')\n",
    "    axes[1].loglog(ns[i], cost_eval[i], marker='o', label=rf'd={d}')\n",
    "\n",
    "for ax, title in zip(axes, [rf'setup time', rf'runtime of evaluating a batch of size {batchsize}']) :\n",
    "    ax.set_xlabel(r'n = $|\\Lambda|$'); ax.grid(); ax.legend(); ax.set_title(title); "
   ]
  },
  {
   "cell_type": "code",
   "execution_count": null,
   "id": "b617e179-bded-4c83-b532-133ba6a55a14",
   "metadata": {},
   "outputs": [],
   "source": [
    "r, theta = 2., .1\n",
    "d = 100\n",
    "batchsizes = [1,10,100,1000]\n",
    "n_max = 10000\n",
    "n_tests = 8\n",
    "\n",
    "f = lambda x : target_f(x, theta, r)\n",
    "g = points.LejaMulti(d=d)\n",
    "k  = [np.log((ki+2)**(r)/theta) for ki in range(d)]\n",
    "max_l = indices.find_suitable_l(k, n_max, g.is_nested)\n",
    "\n",
    "cost_eval = np.zeros((len(batchsizes), n_tests))\n",
    "ns = np.zeros((len(batchsizes), n_tests))\n",
    "\n",
    "for i, b in enumerate(batchsizes) :\n",
    "    for j, l in enumerate(np.linspace(1,max_l,n_tests)) :\n",
    "        ip = sj.MultivariateSmolyakBarycentricInterpolator(g=g, k=k, l=l, rank=1, f=f, batchsize=b)\n",
    "        ns[i,j] = ip.n\n",
    "\n",
    "        x = g.get_random(b)\n",
    "        t = time.time()\n",
    "        y = ip(x)\n",
    "        cost_eval[i,j] = (time.time() - t) "
   ]
  },
  {
   "cell_type": "code",
   "execution_count": null,
   "id": "b6ef1719-7229-4522-aff2-3b3d6f4d17ef",
   "metadata": {},
   "outputs": [],
   "source": [
    "fig, axes = plt.subplots(1, 2, figsize=(25,6))\n",
    "for i, b in enumerate(batchsizes) :\n",
    "    axes[0].loglog(ns[i], cost_eval[i], marker='o', label=rf'b={b}')\n",
    "    axes[1].loglog(ns[i], cost_eval[i]/b, marker='o', label=rf'b={b}')\n",
    "for ax, title in zip(axes, [rf'runtime of evaluating a batch of size b', rf'resulting runtime *per sample*']) : \n",
    "    ax.set_xlabel(r'n = $|\\Lambda|$'); ax.grid(); ax.legend(); ax.set_title(title); "
   ]
  }
 ],
 "metadata": {
  "kernelspec": {
   "display_name": "dinox_env",
   "language": "python",
   "name": "python3"
  },
  "language_info": {
   "codemirror_mode": {
    "name": "ipython",
    "version": 3
   },
   "file_extension": ".py",
   "mimetype": "text/x-python",
   "name": "python",
   "nbconvert_exporter": "python",
   "pygments_lexer": "ipython3",
   "version": "3.12.3"
  }
 },
 "nbformat": 4,
 "nbformat_minor": 5
}
