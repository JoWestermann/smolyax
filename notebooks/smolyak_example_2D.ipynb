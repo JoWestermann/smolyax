{
 "cells": [
  {
   "cell_type": "code",
   "execution_count": null,
   "id": "8e318857-3396-46af-9dfd-8160a5c7193f",
   "metadata": {
    "editable": true,
    "slideshow": {
     "slide_type": ""
    },
    "tags": []
   },
   "outputs": [],
   "source": [
    "import numpy as np\n",
    "import matplotlib.pyplot as plt\n",
    "plt.rcParams.update({'font.size': 16, 'figure.figsize': (40, 8), 'font.family': 'serif', 'text.usetex': True, 'pgf.rcfonts': False})\n",
    "\n",
    "%load_ext autoreload\n",
    "%autoreload 2\n",
    "\n",
    "import jax\n",
    "jax.config.update('jax_platform_name', 'cpu')\n",
    "    \n",
    "from jax_smolyak import indices, points\n",
    "import jax_smolyak.smolyak_jax as sj\n",
    "import jax_smolyak.smolyak as sn\n",
    "\n",
    "def target_f_2d_to_1d(x):\n",
    "    x = np.atleast_2d(x)\n",
    "    y = np.sin(2 * np.pi * x[:, 0]) * np.cos(2 * np.pi * x[:, 1])\n",
    "    return y\n",
    "\n",
    "def get_meshgrid(g, n=100) :\n",
    "    xs = [np.linspace(gi.domain[0], gi.domain[1], n) for gi in g]\n",
    "    return np.meshgrid(*xs)"
   ]
  },
  {
   "cell_type": "code",
   "execution_count": null,
   "id": "f452fbac-87b1-4c21-8f7a-c2b08e622101",
   "metadata": {},
   "outputs": [],
   "source": [
    "g = points.LejaMulti(domains=[[-1,1], [-1,1]])\n",
    "l = 30\n",
    "ip = sj.MultivariateSmolyakBarycentricInterpolator(g=g, k=[1,1], l=l, rank=1, f=target_f_2d_to_1d)\n",
    "ipn = sn.MultivariateSmolyakBarycentricInterpolator(g=g, k=[1,1], l=[l], f=target_f_2d_to_1d)\n",
    "\n",
    "n = 100\n",
    "X, Y = get_meshgrid(g, n)\n",
    "Z_f = target_f_2d_to_1d(np.stack([X.ravel(), Y.ravel()], axis=1)).reshape(n, n)\n",
    "Z_ip = ip(np.stack([X.ravel(), Y.ravel()], axis=1)).reshape(n, n)\n",
    "Z_ipn = ipn(np.stack([X.ravel(), Y.ravel()], axis=1)).reshape(n, n)\n",
    "Z_diff = Z_ipn - Z_ip\n",
    "\n",
    "fig, axes = plt.subplots(1, 4, figsize=(24, 5))\n",
    "for ax, Z, title in zip(axes, [Z_f, Z_ipn, Z_ip, Z_diff], ['target', 'interpolant numpy', 'interpolant jax', 'difference']):\n",
    "    im = ax.imshow(Z, extent=[np.min(X), np.max(X), np.min(Y), np.max(Y)], origin='lower')\n",
    "    ax.set_title(title); fig.colorbar(im, ax=ax)\n",
    "\n",
    "plt.show()"
   ]
  },
  {
   "cell_type": "markdown",
   "id": "55593890-19eb-460c-8f59-e6eca21c45e8",
   "metadata": {},
   "source": [
    "#### Chasing some weird artefacts:"
   ]
  },
  {
   "cell_type": "code",
   "execution_count": null,
   "id": "da4c031c-e9a9-4645-915c-dfada073e168",
   "metadata": {},
   "outputs": [],
   "source": [
    "g = points.LejaMulti(domains=[[-1,2.], [-1,2.]])\n",
    "l = 3 # also 30\n",
    "ip = sj.MultivariateSmolyakBarycentricInterpolator(g=g, k=[1,1], l=l, rank=1, f=target_f_2d_to_1d)\n",
    "ipn = sn.MultivariateSmolyakBarycentricInterpolator(g=g, k=[1,1], l=[l], f=target_f_2d_to_1d)\n",
    "\n",
    "n = 100\n",
    "X, Y = get_meshgrid(g, n)\n",
    "Z_f = target_f_2d_to_1d(np.stack([X.ravel(), Y.ravel()], axis=1)).reshape(n, n)\n",
    "Z_ip = ip(np.stack([X.ravel(), Y.ravel()], axis=1)).reshape(n, n)\n",
    "Z_ipn = ipn(np.stack([X.ravel(), Y.ravel()], axis=1)).reshape(n, n)\n",
    "Z_diff = Z_ipn - Z_ip\n",
    "\n",
    "fig, axes = plt.subplots(1, 4, figsize=(24, 5))\n",
    "for ax, Z, title in zip(axes, [Z_f, Z_ipn, Z_ip, Z_diff], ['target', 'interpolant numpy', 'interpolant jax', 'difference']):\n",
    "    im = ax.imshow(Z, extent=[np.min(X), np.max(X), np.min(Y), np.max(Y)], origin='lower')\n",
    "    ax.set_title(title); fig.colorbar(im, ax=ax)\n",
    "\n",
    "plt.show()"
   ]
  }
 ],
 "metadata": {
  "kernelspec": {
   "display_name": "dinox_env",
   "language": "python",
   "name": "python3"
  },
  "language_info": {
   "codemirror_mode": {
    "name": "ipython",
    "version": 3
   },
   "file_extension": ".py",
   "mimetype": "text/x-python",
   "name": "python",
   "nbconvert_exporter": "python",
   "pygments_lexer": "ipython3",
   "version": "3.12.3"
  }
 },
 "nbformat": 4,
 "nbformat_minor": 5
}
