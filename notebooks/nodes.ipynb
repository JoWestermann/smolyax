{
 "cells": [
  {
   "cell_type": "code",
   "execution_count": null,
   "id": "59ff7f08-47c3-4c78-8d9d-35bd717fe627",
   "metadata": {},
   "outputs": [],
   "source": [
    "import numpy as np\n",
    "import matplotlib.pyplot as plt\n",
    "\n",
    "%load_ext autoreload\n",
    "%autoreload 2\n",
    "\n",
    "from smolyax.nodes import *"
   ]
  },
  {
   "cell_type": "markdown",
   "id": "d5baf283-4861-4864-896c-7df4bd04f64d",
   "metadata": {},
   "source": [
    "# Leja Points"
   ]
  },
  {
   "cell_type": "code",
   "execution_count": null,
   "id": "0a63c3bf-d4b2-405c-a728-dd4a182c818a",
   "metadata": {},
   "outputs": [],
   "source": [
    "g = Leja1D([-1,1])\n",
    "for nu in range(13) :\n",
    "    plt.scatter(g(nu), [nu]*(nu+1))\n",
    "plt.grid()"
   ]
  },
  {
   "cell_type": "markdown",
   "id": "3234d37a-f583-46b2-808a-ecbd404a5d21",
   "metadata": {},
   "source": [
    "# Gauss-Hermite Points"
   ]
  },
  {
   "cell_type": "code",
   "execution_count": null,
   "id": "08c5dbd2-c99e-4bc5-ae50-8350dfaf8027",
   "metadata": {},
   "outputs": [],
   "source": [
    "g = GaussHermite1D(mean=0, scaling=1)\n",
    "for nu in range(13) :\n",
    "    plt.scatter(g(nu), [nu]*(nu+1))\n",
    "plt.grid()"
   ]
  }
 ],
 "metadata": {
  "kernelspec": {
   "display_name": "smolyax",
   "language": "python",
   "name": "smolyax"
  },
  "language_info": {
   "codemirror_mode": {
    "name": "ipython",
    "version": 3
   },
   "file_extension": ".py",
   "mimetype": "text/x-python",
   "name": "python",
   "nbconvert_exporter": "python",
   "pygments_lexer": "ipython3",
   "version": "3.13.3"
  }
 },
 "nbformat": 4,
 "nbformat_minor": 5
}
