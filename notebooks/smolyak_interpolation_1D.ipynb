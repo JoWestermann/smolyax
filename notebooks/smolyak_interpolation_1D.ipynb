{
 "cells": [
  {
   "cell_type": "code",
   "execution_count": null,
   "id": "8e318857-3396-46af-9dfd-8160a5c7193f",
   "metadata": {
    "editable": true,
    "slideshow": {
     "slide_type": ""
    },
    "tags": []
   },
   "outputs": [],
   "source": [
    "import numpy as np\n",
    "import matplotlib.pyplot as plt\n",
    "plt.rcParams.update({'font.size': 16, 'figure.figsize': (40, 8), 'font.family': 'serif', 'text.usetex': False, 'pgf.rcfonts': False})\n",
    "\n",
    "%load_ext autoreload\n",
    "%autoreload 2\n",
    "\n",
    "import jax\n",
    "jax.config.update('jax_platform_name', 'cpu')\n",
    "    \n",
    "from smolyax import indices, nodes\n",
    "from smolyax.interpolation import SmolyakBarycentricInterpolator\n",
    "\n",
    "def target_f_1d(x):\n",
    "    x = np.atleast_1d(x)\n",
    "    y = np.sin(2 * np.pi * x) * np.cos(4 * np.pi * x)\n",
    "    return y if x.shape[0] > 1 else y[0]\n",
    "\n",
    "def show_interpolation(target, node_gen, degree) :\n",
    "    t = indices.find_approximate_threshold([1], m=degree+1, nested=node_gen.is_nested)\n",
    "    ip = SmolyakBarycentricInterpolator(node_gen=node_gen, k=[1], t=t, d_out=1, f=target)\n",
    "    \n",
    "    xi = node_gen[0](degree)\n",
    "    if np.min(xi) != np.max(xi) :\n",
    "        x = np.linspace(np.min(xi), np.max(xi), 200)\n",
    "    else :\n",
    "        x = np.linspace(-1, 1, 200)\n",
    "    y_f = target(x)\n",
    "    y_ip = ip(x[:, None])\n",
    "    assert np.isnan(y_f).any() == np.isinf(y_f).any() == False\n",
    "    \n",
    "    fig, axes = plt.subplots(1, 2, figsize=(20, 5))    \n",
    "    axes[0].plot(x, y_f, lw=2, label=r'target $f(x)$')\n",
    "    axes[0].plot(x, y_ip, lw=2, label=r'interpolant $I[f](x)$')\n",
    "    axes[0].scatter(xi, target(xi), color='k')\n",
    "    axes[1].plot(x, y_f - y_ip[:,0], lw=2, label='error $f(x)-I[f](x)$')\n",
    "    axes[1].scatter(xi, np.zeros((len(xi),)), color='k')\n",
    "    for ax in axes : ax.grid(); ax.legend(); ax.set_xlabel('x')"
   ]
  },
  {
   "cell_type": "markdown",
   "id": "4d6c5079-61c9-40a5-a4c0-70361b3eaed6",
   "metadata": {},
   "source": [
    "# Smolyak Interpolation - Example in 1D \n",
    "\n",
    "Although designed for high dimensions, the Smolyak interpolation operator can nevertheless be applied to 1D problems as well.\n",
    "\n",
    "This notebook exemplarily applies the Smolyak interpolation operator on a oscillatory 1D test function.\n",
    "\n",
    "Shown below are results obtained by using both Leja as well as Gauss-Hermite interpolation nodes and varying polynomial degree. As expected, the error decreases as the polynomial degree increases.\n",
    "\n",
    "### Leja interpolation nodes"
   ]
  },
  {
   "cell_type": "code",
   "execution_count": null,
   "id": "4329aff6-fb26-40c2-be6d-8f8d0f15ad53",
   "metadata": {},
   "outputs": [],
   "source": [
    "node_gen_leja = nodes.Leja(domains=[[-2.,1.]])"
   ]
  },
  {
   "cell_type": "code",
   "execution_count": null,
   "id": "e16bca74-1712-46b8-b490-13bf60dbd34c",
   "metadata": {},
   "outputs": [],
   "source": [
    "show_interpolation(target_f_1d, node_gen_leja, degree=10)"
   ]
  },
  {
   "cell_type": "code",
   "execution_count": null,
   "id": "46c7c663-62e7-4538-b87c-d9ebe46edaf9",
   "metadata": {},
   "outputs": [],
   "source": [
    "show_interpolation(target_f_1d, node_gen_leja, degree=35)"
   ]
  },
  {
   "cell_type": "markdown",
   "id": "df1e4776-8e5f-44ab-b4c2-169a5ff6cfa4",
   "metadata": {},
   "source": [
    "### Gauß-Hermite interpolation nodes"
   ]
  },
  {
   "cell_type": "code",
   "execution_count": null,
   "id": "b0cd4aca-48c7-45e8-8460-1da3980e4fed",
   "metadata": {},
   "outputs": [],
   "source": [
    "node_gen_gaussh = nodes.GaussHermite(mean=np.array([0]), scaling=np.array([.12]))"
   ]
  },
  {
   "cell_type": "code",
   "execution_count": null,
   "id": "23e226ec-03b3-4b71-bab1-0641e132c8ab",
   "metadata": {},
   "outputs": [],
   "source": [
    "show_interpolation(target_f_1d, node_gen_gaussh, degree=10)"
   ]
  },
  {
   "cell_type": "code",
   "execution_count": null,
   "id": "aa365d78-67b5-45e9-9605-18e03dbc4428",
   "metadata": {},
   "outputs": [],
   "source": [
    "show_interpolation(target_f_1d, node_gen_gaussh, degree=35)"
   ]
  }
 ],
 "metadata": {
  "kernelspec": {
   "display_name": "smolyax",
   "language": "python",
   "name": "smolyax"
  },
  "language_info": {
   "codemirror_mode": {
    "name": "ipython",
    "version": 3
   },
   "file_extension": ".py",
   "mimetype": "text/x-python",
   "name": "python",
   "nbconvert_exporter": "python",
   "pygments_lexer": "ipython3",
   "version": "3.13.3"
  }
 },
 "nbformat": 4,
 "nbformat_minor": 5
}
