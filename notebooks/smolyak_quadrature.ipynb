{
 "cells": [
  {
   "cell_type": "code",
   "execution_count": null,
   "id": "8e318857-3396-46af-9dfd-8160a5c7193f",
   "metadata": {
    "editable": true,
    "slideshow": {
     "slide_type": ""
    },
    "tags": []
   },
   "outputs": [],
   "source": [
    "import os, itertools\n",
    "import numpy as np\n",
    "import matplotlib.pyplot as plt\n",
    "plt.rcParams.update({'font.size': 16, 'figure.figsize': (40, 8), 'font.family': 'serif', 'text.usetex': True, 'pgf.rcfonts': False})\n",
    "\n",
    "%load_ext autoreload\n",
    "%autoreload 2\n",
    "\n",
    "import jax\n",
    "jax.config.update('jax_platform_name', 'cpu')\n",
    "    \n",
    "from smolyax import indices, nodes\n",
    "from smolyax.interpolation import SmolyakBarycentricInterpolator"
   ]
  },
  {
   "cell_type": "markdown",
   "id": "3b081ac2-8014-440b-ad15-905998c54a12",
   "metadata": {},
   "source": [
    "We consider the high-dimensional test target function $f : [-1,1]^d \\to \\mathbb{R}$ already introduced in `smolyak_example_high_D.ipynb` and  given by\n",
    "$$ f(\\boldsymbol{x}) = \\frac{1}{1 + \\Theta \\sum_{j=1}^d (j+1)^{-r} x_j} $$\n",
    "for some $\\Theta \\in (0,1)$ and $r\\ge1$."
   ]
  },
  {
   "cell_type": "code",
   "execution_count": null,
   "id": "8441f7e6-8b13-452e-be8f-c4c66bd26671",
   "metadata": {},
   "outputs": [],
   "source": [
    "def target_f(x, theta, r) :\n",
    "    return 1/(1+ theta * np.sum(x * (np.arange(x.shape[-1]) + 2)**(-r), axis=-1))"
   ]
  },
  {
   "cell_type": "markdown",
   "id": "6f2f8ff6-f6f7-4cf7-9a23-d919718abd53",
   "metadata": {},
   "source": [
    "We test the convergence of the Smolyak quadrature implemented by `SmolyakBarycentricInterpolator.integral()`.\n",
    "Given a target function $f$, this method computes the integral of its Smolyak interpolant $I^\\Lambda[f]$, which is equivalent to the Smolyak quadrature approximation $Q^\\Lambda[f]$ of the integral of the target function $f$, i.e.,\n",
    "$$\n",
    "Q^\\Lambda [f] = \\int_{[-1,1]^d} I^\\Lambda [f] {\\rm d} x \\quad \\approx \\quad  \\int_{[-1,1]^d} f(x) {\\rm d} x.\n",
    "$$\n",
    "\n",
    "Below, we demonstrate convergence of the integral as the number of interpolation nodes $n = |\\Lambda|$ increases. Further, we verify that a Monte-Carlo estimate of integral of the interpolant, i.e. the estimator\n",
    "$$\n",
    "Q_{\\rm MC}^\\Lambda [f] = \\sum_{j=1}^N I^\\Lambda [f] (x_j) \\quad \\approx \\quad Q^\\Lambda[f]\n",
    "$$\n",
    "for $N$ random samples $(x_j)_{j=1}^d \\subset [-1,1]^d$, converges to $Q^\\Lambda[f]$."
   ]
  },
  {
   "cell_type": "markdown",
   "id": "2ab3da7c-f028-4768-8c52-04885f3a4c34",
   "metadata": {},
   "source": [
    "### Convergence of $Q^\\Lambda [f]$ as $|\\Lambda| \\to \\infty$"
   ]
  },
  {
   "cell_type": "code",
   "execution_count": null,
   "id": "62980a16-47a9-4ac8-905d-7be00a9808f7",
   "metadata": {},
   "outputs": [],
   "source": [
    "d, r, theta = 100, 2., .1\n",
    "f = lambda x : target_f(x, theta, r)\n",
    "node_gen = nodes.GaussHermite(dim=d)\n",
    "k = [np.log((ki+2)**(r)/theta) for ki in range(d)]\n",
    "max_t = indices.find_approximate_threshold(k, 1000, node_gen.is_nested)\n",
    "ips = [SmolyakBarycentricInterpolator(node_gen=node_gen, k=k, t=t, d_out=1, f=f) for t in np.linspace(1,max_t,10)]\n",
    "err = np.zeros((len(ips)-1,))\n",
    "qf = ips[-1].integral()[0]\n",
    "for i, ip in enumerate(ips[:-1]) :\n",
    "    err[i] = np.abs(ip.integral()[0] - qf)"
   ]
  },
  {
   "cell_type": "code",
   "execution_count": null,
   "id": "ff2d4805-110a-4a19-b9e3-b93c83eae4b3",
   "metadata": {},
   "outputs": [],
   "source": [
    "ax = plt.figure(figsize=(16, 6)).add_subplot(111)\n",
    "ax.loglog([s.n_f_evals for s in ips[:-1]], err, marker='o')\n",
    "ax.set_xlabel(r'n = $|\\Lambda|$ = \\# function evaluations'); ax.set_title(r'$|\\int f {\\rm d}x - Q^\\Lambda[f]|$'); ax.grid();"
   ]
  },
  {
   "cell_type": "markdown",
   "id": "db58f741-206f-4adf-978d-31f0a69e1e55",
   "metadata": {},
   "source": [
    "### Convergence of $Q_{MC}^\\Lambda [f]$ to $Q^\\Lambda [f]$"
   ]
  },
  {
   "cell_type": "code",
   "execution_count": null,
   "id": "b188d622-f259-4973-abbc-2d22d91e9350",
   "metadata": {},
   "outputs": [],
   "source": [
    "ns = [100,200,400,800, 1600, 3200, 6400, 12000, 24000, 50_000, 100_000, 200_000, 400_000]\n",
    "err_mc = np.zeros((len(ns),))\n",
    "ip = ips[-2]\n",
    "qf = np.squeeze(ip.integral())\n",
    "for i, n in enumerate(ns) :\n",
    "    err_mc[i] = np.abs(np.mean(ip(node_gen.get_random(n))) - qf) / qf"
   ]
  },
  {
   "cell_type": "code",
   "execution_count": null,
   "id": "665f3d87-5df8-499c-a3e7-7551a20df7a1",
   "metadata": {},
   "outputs": [],
   "source": [
    "ax = plt.figure(figsize=(16, 6)).add_subplot(111)\n",
    "ax.loglog(ns, err_mc, marker='o', label=r'$|Q_{MC}^\\Lambda [f] - Q^\\Lambda [f]|$')\n",
    "ax.loglog(ns, 1e-2 * np.array(ns)**(-.5), 'k:', label=r'Monte-Carlo convergence rate $\\sim N^{-1/2}$')\n",
    "ax.set_xlabel(r'N'); ax.grid(); ax.legend();"
   ]
  }
 ],
 "metadata": {
  "kernelspec": {
   "display_name": "smolyax",
   "language": "python",
   "name": "smolyax"
  },
  "language_info": {
   "codemirror_mode": {
    "name": "ipython",
    "version": 3
   },
   "file_extension": ".py",
   "mimetype": "text/x-python",
   "name": "python",
   "nbconvert_exporter": "python",
   "pygments_lexer": "ipython3",
   "version": "3.13.3"
  }
 },
 "nbformat": 4,
 "nbformat_minor": 5
}
