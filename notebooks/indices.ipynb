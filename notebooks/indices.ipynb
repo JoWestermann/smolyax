{
 "cells": [
  {
   "cell_type": "code",
   "execution_count": null,
   "id": "59ff7f08-47c3-4c78-8d9d-35bd717fe627",
   "metadata": {},
   "outputs": [],
   "source": [
    "import time, sys\n",
    "import numpy as np\n",
    "import matplotlib.pyplot as plt\n",
    "plt.rcParams.update({'font.size': 18, 'figure.figsize': (25, 10), 'font.family': 'serif', 'text.usetex': False, 'pgf.rcfonts': False})\n",
    "\n",
    "from smolyax import indices\n",
    "\n",
    "sys.setrecursionlimit(11_000)\n",
    "\n",
    "%load_ext autoreload\n",
    "%autoreload 2"
   ]
  },
  {
   "cell_type": "markdown",
   "id": "aa351150-dd47-4ab3-b180-bd4e866b9710",
   "metadata": {},
   "source": [
    "# Visualizing 2-D Multi-Index Sets"
   ]
  },
  {
   "cell_type": "code",
   "execution_count": null,
   "id": "fbf49906-7d5b-4c84-84ea-c08041ffbe03",
   "metadata": {},
   "outputs": [],
   "source": [
    "def print_indexset(t, k, d1, d2) :\n",
    "    n1 = int(np.ceil(t/k[d1]))\n",
    "    n2 = int(np.ceil(t/k[d2]))\n",
    "    arr = [[' ' for _ in range(int(np.ceil(t/k[d2])))] for _ in range(n1)]\n",
    "    i = indices.indexset(k, t)\n",
    "    arr[0][0] = 'x'\n",
    "    for idx in i :\n",
    "        idx = dict(idx)\n",
    "        if d1 in idx.keys() and d2 in idx.keys() :  arr[idx[d1]][idx[d2]] = 'x'\n",
    "        if d1 in idx.keys() : arr[idx[d1]][0] = 'x'\n",
    "        if d2 in idx.keys() : arr[0][idx[d2]] = 'x'\n",
    "\n",
    "    for i in range(n1)[::-1]  :\n",
    "        print('     +' + '---+'*len(arr[i]) + '\\n {:3} | '.format(i), end='')\n",
    "        for j in range(len(arr[i])) :\n",
    "            print(arr[i][j] + ' | ', end='')\n",
    "        print()\n",
    "    print('     +' + '---+'*len(arr[-1]))\n",
    "    print('       ', end='')\n",
    "    for i in range(n2) : print(str(i) + '   ', end='')\n",
    "    print()\n",
    "\n",
    "t = 6\n",
    "k = [np.log(j+2)/np.log(2) for j in range(2)]\n",
    "print_indexset(t, k, 0, 1)"
   ]
  },
  {
   "cell_type": "markdown",
   "id": "3c566b7d-346f-4106-9229-ddec15b0a4fb",
   "metadata": {},
   "source": [
    "# Visualizing Admissible Weight Sequences For Constructing High-dimensional Multi-Index Sets"
   ]
  },
  {
   "cell_type": "code",
   "execution_count": null,
   "id": "c48d002c-6894-4ab1-bad9-aafebb5da4e2",
   "metadata": {},
   "outputs": [],
   "source": [
    "a_list = [1.1, 3.]\n",
    "b_list = [.5, 1.5]\n",
    "d = 10\n",
    "x = np.array([i for i in range(d)])\n",
    "for a in a_list :\n",
    "    for b in b_list :\n",
    "        plt.plot(x, np.log(a + b*x) / np.log(a + b*x[0]), label=f'a={a}, b={b}')\n",
    "plt.legend(); plt.grid()"
   ]
  },
  {
   "cell_type": "markdown",
   "id": "86b3abe5-bf4c-4518-a67b-775f7643c6b7",
   "metadata": {},
   "source": [
    "# Multi-index set construction time"
   ]
  },
  {
   "cell_type": "code",
   "execution_count": null,
   "id": "de097208-80aa-426c-9cc1-a0ef9735dc03",
   "metadata": {},
   "outputs": [],
   "source": [
    "dimensions = [10, 100, 1000, 10_000, 100_000]\n",
    "sizes = [300, 1_000, 3_000, 10_000, 30_000, 100_000, 300_000]\n",
    "times = np.zeros((2, len(dimensions), len(sizes)))\n",
    "\n",
    "for i, is_nested in enumerate([True, False]) :\n",
    "    for j, d in enumerate(dimensions) :\n",
    "        k = [np.log(j+2)/np.log(2) for j in range(d)]\n",
    "    \n",
    "        for l, m in enumerate(sizes) : \n",
    "            t = indices.find_approximate_threshold(k, m, is_nested)\n",
    "        \n",
    "            t_start = time.process_time()\n",
    "            iset = indices.indexset(k, t)\n",
    "            times[i,j,l] = time.process_time() - t_start"
   ]
  },
  {
   "cell_type": "code",
   "execution_count": null,
   "id": "05a5513c-68b2-4358-8dc4-c0f38247512f",
   "metadata": {},
   "outputs": [],
   "source": [
    "fig, axes = plt.subplots(1, 2, figsize=(25,6))\n",
    "\n",
    "for i, (ax, title) in enumerate(zip(axes, ['nested', 'non-nested'])) :\n",
    "    for j, d in enumerate(dimensions) :\n",
    "        ax.loglog(sizes, times[i,j,:], label=f'dim = {d}')\n",
    "    ax.legend(); ax.grid(); ax.set_title(title); ax.set_xlabel('index set size'); ax.set_ylabel('construction time')"
   ]
  },
  {
   "cell_type": "markdown",
   "id": "824560cc-8f18-4706-bb4d-6489ebebf404",
   "metadata": {},
   "source": [
    "# Visualizing transformation of multi-indices"
   ]
  },
  {
   "cell_type": "code",
   "execution_count": null,
   "id": "32e8456a-a3cf-4c4a-b77d-d2556fda4dd2",
   "metadata": {},
   "outputs": [],
   "source": [
    "d = 4\n",
    "k = [np.log(ki + 2) / np.log(2) for ki in range(d)]\n",
    "t = 5.1\n",
    "\n",
    "indxs = indices.indexset(k, t)\n",
    "\n",
    "N = len(indxs)\n",
    "\n",
    "zetas = [indices.smolyak_coefficient_zeta(k, t, nu=nu) for nu in indxs]\n",
    "indxs_z = [nu for nu, z in zip(indxs, zetas) if z != 0]\n",
    "\n",
    "taus = {}\n",
    "for nu in indxs_z:\n",
    "    tau = tuple(sorted((v for _, v in nu), reverse=True))\n",
    "    n = len(tau)\n",
    "    taus[n] = tuple(max(tau1, tau2) for tau1, tau2 in zip(taus.get(n, tau), tau))\n",
    "taus = list(taus.values())\n",
    "\n",
    "indxs_z += [None] * (N - len(indxs_z))\n",
    "taus += [None] * (N - len(taus))\n",
    "\n",
    "print('| LAMBDA (dense) |  LAMBDA (sparse)   | LAMBDA (nonzero) | ZETA |    | LAMBDA_ZETA -> sort    -> max       |')\n",
    "print('+----------------+--------------------+------------------+------+    +-------------------------------------+')\n",
    "\n",
    "lines = []\n",
    "for nu, z, nu_z, tau in zip(indxs, zetas, indxs_z, taus):\n",
    "    l = f'|  {indices.sparse_index_to_dense(nu, dim=d)}  | {str(dict(nu)):<18} | {str(tuple(v for _, v in nu)):<16} | {z:>3}  |    '\n",
    "    if nu_z is not None:\n",
    "        l += f'|  {str(tuple(v for _, v in nu_z)):<13}'\n",
    "        l += f' {str(tuple(sorted((v for _, v in nu_z), reverse=True))):<9} '\n",
    "        if tau is not None:\n",
    "            l += f' {str(tau):<9} |'\n",
    "        else:\n",
    "            l += f'           |'\n",
    "    print(l)"
   ]
  },
  {
   "cell_type": "code",
   "execution_count": null,
   "id": "8e7d1b40",
   "metadata": {},
   "outputs": [],
   "source": []
  }
 ],
 "metadata": {
  "kernelspec": {
   "display_name": "minic3n",
   "language": "python",
   "name": "minic3"
  },
  "language_info": {
   "codemirror_mode": {
    "name": "ipython",
    "version": 3
   },
   "file_extension": ".py",
   "mimetype": "text/x-python",
   "name": "python",
   "nbconvert_exporter": "python",
   "pygments_lexer": "ipython3",
   "version": "3.11.5"
  }
 },
 "nbformat": 4,
 "nbformat_minor": 5
}
