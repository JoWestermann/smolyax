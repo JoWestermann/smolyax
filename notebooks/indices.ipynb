{
 "cells": [
  {
   "cell_type": "code",
   "execution_count": null,
   "id": "59ff7f08-47c3-4c78-8d9d-35bd717fe627",
   "metadata": {},
   "outputs": [],
   "source": [
    "import numpy as np\n",
    "import matplotlib.pyplot as plt\n",
    "plt.rcParams.update({'font.size': 18, 'figure.figsize': (25, 10), 'font.family': 'serif', 'text.usetex': True, 'pgf.rcfonts': False})\n",
    "\n",
    "from jax_smolyak.indices import *\n",
    "\n",
    "%load_ext autoreload\n",
    "%autoreload 2"
   ]
  },
  {
   "cell_type": "markdown",
   "id": "aa351150-dd47-4ab3-b180-bd4e866b9710",
   "metadata": {},
   "source": [
    "# Visualizing 2-D Multi-Index Sets"
   ]
  },
  {
   "cell_type": "code",
   "execution_count": null,
   "id": "fbf49906-7d5b-4c84-84ea-c08041ffbe03",
   "metadata": {},
   "outputs": [],
   "source": [
    "def print_indexset_sparse(l, k, d1, d2) :\n",
    "    n1 = int(np.ceil(l/k(d1)))\n",
    "    n2 = int(np.ceil(l/k(d2)))\n",
    "    arr = [[' ' for _ in range(int(np.ceil(l/k(d2))))] for _ in range(n1)]\n",
    "    i = indexset_sparse(k, l, cutoff=max(d1,d2)+1)\n",
    "    arr[0][0] = 'x'\n",
    "    for idx in i :\n",
    "        if d1 in idx.keys() and d2 in idx.keys() :  arr[idx[d1]][idx[d2]] = 'x'\n",
    "        if d1 in idx.keys() : arr[idx[d1]][0] = 'x'\n",
    "        if d2 in idx.keys() : arr[0][idx[d2]] = 'x'\n",
    "\n",
    "    for i in range(n1)[::-1]  :\n",
    "        print('     +' + '---+'*len(arr[i]) + '\\n {:3} | '.format(i), end='')\n",
    "        for j in range(len(arr[i])) :\n",
    "            print(arr[i][j] + ' | ', end='')\n",
    "        print()\n",
    "    print('     +' + '---+'*len(arr[-1]))\n",
    "    print('       ', end='')\n",
    "    for i in range(n2) : print(str(i) + '   ', end='')\n",
    "    print()"
   ]
  },
  {
   "cell_type": "code",
   "execution_count": null,
   "id": "3993a53a-1a97-48d0-8c8b-af1744e23b48",
   "metadata": {},
   "outputs": [],
   "source": [
    "def print_indexset_dense(l, k, d1, d2) :\n",
    "    n1 = int(np.ceil(l/k[d1]))\n",
    "    n2 = int(np.ceil(l/k[d2]))\n",
    "    arr = [[' ' for _ in range(int(np.ceil(l/k[d2])))] for _ in range(n1)]\n",
    "    i = indexset_dense(k, l)\n",
    "    for idx in i :\n",
    "        arr[idx[d1]][idx[d2]] = 'x'\n",
    "\n",
    "    for i in range(n1)[::-1]  :\n",
    "        print('     +' + '---+'*len(arr[i]) + '\\n {:3} | '.format(i), end='')\n",
    "        for j in range(len(arr[i])) :\n",
    "            print(arr[i][j] + ' | ', end='')\n",
    "        print()\n",
    "    print('     +' + '---+'*len(arr[-1]))\n",
    "    print('       ', end='')\n",
    "    for i in range(n2) : print(str(i) + '   ', end='')\n",
    "    print()"
   ]
  },
  {
   "cell_type": "code",
   "execution_count": null,
   "id": "e81ea443-3a16-43e5-af07-4e012b779751",
   "metadata": {},
   "outputs": [],
   "source": [
    "l = 6\n",
    "print_indexset_sparse(l, lambda j : np.log(j+2)/np.log(2), 0, 1)\n",
    "print_indexset_dense(l, [np.log(j+2)/np.log(2) for j in range(2)], 0, 1)"
   ]
  },
  {
   "cell_type": "markdown",
   "id": "3c566b7d-346f-4106-9229-ddec15b0a4fb",
   "metadata": {},
   "source": [
    "# Visualizing Admissible Weight Sequences For Constructing High-dimensional Multi-Index Sets"
   ]
  },
  {
   "cell_type": "code",
   "execution_count": null,
   "id": "c48d002c-6894-4ab1-bad9-aafebb5da4e2",
   "metadata": {},
   "outputs": [],
   "source": [
    "a_list = [1.1, 3.]\n",
    "b_list = [.5, 1.5]\n",
    "d = 10\n",
    "x = np.array([i for i in range(d)])\n",
    "for a in a_list :\n",
    "    for b in b_list :\n",
    "        plt.plot(x, np.log(a + b*x) / np.log(a + b*x[0]), label=f'a={a}, b={b}')\n",
    "plt.legend(); plt.grid()"
   ]
  },
  {
   "cell_type": "markdown",
   "id": "86b3abe5-bf4c-4518-a67b-775f7643c6b7",
   "metadata": {},
   "source": [
    "# Performance Comparison of Computing Smolyak Coefficients from Sparse or Dense Multi-Index Sets "
   ]
  },
  {
   "cell_type": "code",
   "execution_count": null,
   "id": "4bbd04c2-1b66-4750-81a7-558fd06813a9",
   "metadata": {},
   "outputs": [],
   "source": [
    "d = 345\n",
    "k = np.array([(i + 2) ** (-2) for i in range(d)])\n",
    "k = np.log(1 / k / 0.001)\n",
    "k /= k[0]\n",
    "kk = lambda j: k[j]\n",
    "l = 2\n",
    "\n",
    "isparse = indexset_sparse(kk, l, cutoff=d)\n",
    "idense = indexset_dense(k, l)"
   ]
  },
  {
   "cell_type": "code",
   "execution_count": null,
   "id": "a2829db1-661a-44ce-b0e0-143a885bcd1c",
   "metadata": {},
   "outputs": [],
   "source": [
    "# %%prun -s time -l 20\n",
    "for nu in isparse :\n",
    "    c = smolyak_coefficient_zeta_sparse(kk, l, nu=nu, cutoff=d)"
   ]
  },
  {
   "cell_type": "code",
   "execution_count": null,
   "id": "dcf8d648-4eb8-4a64-b270-e722efbaffad",
   "metadata": {},
   "outputs": [],
   "source": [
    "# %%prun -s time -l 20\n",
    "for nu in idense :\n",
    "    c = smolyak_coefficient_zeta_dense(k, l, nu=nu)"
   ]
  },
  {
   "cell_type": "code",
   "execution_count": null,
   "id": "90f0e7a1-00f4-4283-81f9-c9b0d6625872",
   "metadata": {},
   "outputs": [],
   "source": [
    "d = 3\n",
    "k = np.array([(i + 2) ** (-2) for i in range(d)])\n",
    "k = np.log(1 / k / 0.001)\n",
    "k /= k[0]\n",
    "kk = lambda j: k[j]\n",
    "l = 2\n",
    "\n",
    "isparse = indexset_sparse(kk, l, cutoff=d)\n",
    "idense = indexset_dense(k, l)"
   ]
  },
  {
   "cell_type": "code",
   "execution_count": null,
   "id": "03af3d7f-ad88-4a6b-b792-e9f5aaf6c4d5",
   "metadata": {},
   "outputs": [],
   "source": [
    "for nu in isparse :\n",
    "    nu_dense = sparse_index_to_dense(nu, cutoff=d)\n",
    "    assert nu_dense in idense, nu_dense\n",
    "\n",
    "for nu in idense :\n",
    "    nu_sparse = dense_index_to_sparse(nu)\n",
    "    assert nu_sparse in isparse, nu_sparse"
   ]
  },
  {
   "cell_type": "code",
   "execution_count": null,
   "id": "f519c705-09c1-49b3-b2d1-752720d40fe2",
   "metadata": {},
   "outputs": [],
   "source": [
    "idense"
   ]
  },
  {
   "cell_type": "code",
   "execution_count": null,
   "id": "ee91510d-6df1-43fb-898f-ffba3cbb1f9d",
   "metadata": {},
   "outputs": [],
   "source": [
    "(1,2) + (3,) + ()"
   ]
  },
  {
   "cell_type": "code",
   "execution_count": null,
   "id": "6237ab09-dbde-469a-832a-9040cda24b03",
   "metadata": {},
   "outputs": [],
   "source": [
    "()"
   ]
  }
 ],
 "metadata": {
  "kernelspec": {
   "display_name": "dinox_env",
   "language": "python",
   "name": "python3"
  },
  "language_info": {
   "codemirror_mode": {
    "name": "ipython",
    "version": 3
   },
   "file_extension": ".py",
   "mimetype": "text/x-python",
   "name": "python",
   "nbconvert_exporter": "python",
   "pygments_lexer": "ipython3",
   "version": "3.12.3"
  }
 },
 "nbformat": 4,
 "nbformat_minor": 5
}
