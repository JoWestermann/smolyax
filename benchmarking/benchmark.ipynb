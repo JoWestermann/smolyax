{
 "cells": [
  {
   "cell_type": "code",
   "execution_count": null,
   "id": "9332052b-7477-4285-804b-7a5a6c98f456",
   "metadata": {},
   "outputs": [],
   "source": [
    "from IPython.display import Image"
   ]
  },
  {
   "cell_type": "markdown",
   "id": "dd328aa1-2a9b-417d-b490-c1f48dbfa05b",
   "metadata": {},
   "source": [
    "## A benchmark comparison of interpolation in Tasmanian and Smolyax\n",
    "\n",
    "Let $I^\\Lambda[f]$ be the Smolyak interpolant of a function $f : [-1,1]^{d_{\\rm in}} \\to \\mathbb{R}^{d_{\\rm out}}$ with polynomial degrees specified by a multi-index set $\\Lambda \\subset \\mathbb{N}_0^{d_{\\rm in}}$.\n",
    "\n",
    "The following figures compares the runtime of evaluating the Smolyak interpolant implemented both in Tasmanian and Smolyax. Specifically, we record the runtime of evaluating $I^\\Lambda[f]$ on an input data batch consisting of $n_{\\rm batch} \\in \\{50, 500, 5000\\}$ input samples and average over $20$ runs. We also vary the size of the polynomial space $|\\Lambda|$ and the number of input and output dimensions $d_{\\rm in}$ and $d_{\\rm out}$.\n",
    "\n",
    "We compare the performance of both codes by plotting the logarithmic ratio of these runtimes. A value of $1$ thus indicates Smolyax being one order of magnitude faster and a value of $-1$ corresponds to Tasmanian being faster by one order of magnitude.\n",
    "\n",
    "Observations:\n",
    "* Tasmanian's advantage increases as the output dimension $d_{\\rm out}$ increases.\n",
    "* Smolyax's advantage increases as input dimension $d_{\\rm in}$ and/or batch size $n_{\\rm batch}$ and/or available GPU memory increase.\n",
    "\n",
    "Note: The actual $|\\Lambda|$ may differ slightly around the value of the xlabel and between implementations due to different constructions."
   ]
  },
  {
   "cell_type": "markdown",
   "id": "d1e1426e-26ed-4956-bd0f-d4aa82f228f6",
   "metadata": {},
   "source": [
    "### Results on a Titan Xp with 12 GB memory"
   ]
  },
  {
   "cell_type": "code",
   "execution_count": null,
   "id": "9bee1d8f-a72b-409a-a976-62e100f35b1a",
   "metadata": {},
   "outputs": [],
   "source": [
    "Image(filename='tas_vs_smolyax_heatmap_TitanXp.png')"
   ]
  },
  {
   "cell_type": "markdown",
   "id": "49a3a34a-c69d-4765-bbb6-300326d199d0",
   "metadata": {},
   "source": [
    "### Results on a Quadro RTX 6000 with 23 GB memory"
   ]
  },
  {
   "cell_type": "code",
   "execution_count": null,
   "id": "2780d4fe-b877-445c-b16f-0a1d5e23e499",
   "metadata": {},
   "outputs": [],
   "source": [
    "Image(filename='tas_vs_smolyax_heatmap_RTX.png')"
   ]
  },
  {
   "cell_type": "markdown",
   "id": "6fb303da-34e9-416b-9377-217dd4f73671",
   "metadata": {},
   "source": [
    "### Results on a A100 with 40 GB memory"
   ]
  },
  {
   "cell_type": "code",
   "execution_count": null,
   "id": "f10a6aa4-31c0-42e3-b2d0-f3394a88f466",
   "metadata": {},
   "outputs": [],
   "source": [
    "Image(filename='tas_vs_smolyax_heatmap_A100.png')"
   ]
  }
 ],
 "metadata": {
  "kernelspec": {
   "display_name": "smolyax",
   "language": "python",
   "name": "smolyax"
  },
  "language_info": {
   "codemirror_mode": {
    "name": "ipython",
    "version": 3
   },
   "file_extension": ".py",
   "mimetype": "text/x-python",
   "name": "python",
   "nbconvert_exporter": "python",
   "pygments_lexer": "ipython3",
   "version": "3.13.5"
  }
 },
 "nbformat": 4,
 "nbformat_minor": 5
}
